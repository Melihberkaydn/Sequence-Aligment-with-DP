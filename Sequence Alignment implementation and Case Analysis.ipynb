{
 "cells": [
  {
   "cell_type": "markdown",
   "metadata": {},
   "source": [
    "![title](img/genetics-bioinformatics.jpg)"
   ]
  },
  {
   "cell_type": "markdown",
   "metadata": {},
   "source": [
    "# Sequence Alignment with Dynamic Programming: Application of Smith–Waterman & Needleman–Wunsch algorithms"
   ]
  },
  {
   "cell_type": "markdown",
   "metadata": {},
   "source": [
    "# Section 1: Briefly Dynamic Programming\n",
    "\n",
    "\n",
    "Dynamic Programming is a programming approach used in order to increase efficiency of the solution process, by calculating the overlapping subproblems once and recording them for recurrent uses. There are two feasibility conditions that a problem needs to met before determining whether Dynamic Programming can be used.\n",
    "\n",
    "**These two conditions are:**\n",
    "\n",
    "1. Problem can be disintegrated into Overlapping Subproblems.\n",
    "2. Problem and its subproblems must show Optimal Substructure Property.\n",
    "\n",
    "## Overlapping Subproblems:\n",
    "\n",
    "If a problem can be dismantled in the subproblems that occur simultaneously or consecutively, it can be said that the problem has an Overlapping Subproblems property.\n",
    "\n",
    "## Optimal Substructure Property:\n",
    "\n",
    "If optimal solution to a problem can be achieved from the optimal solutions of its subproblems, it can be said that the problem has an Optimal Substructure property."
   ]
  },
  {
   "cell_type": "markdown",
   "metadata": {},
   "source": [
    "# Section 2: Sequence Alignment Problem: Attempt to find the Ancestral Sequence\n",
    "\n",
    "Evolution has a huge impact on organisms and their current identity. By evolution, broadly speaking, nucleotide/protein compositions of organisms can change through mutation and selection over very long time. Mutations that cause these change can be classified in two types: substitution and insertion/deletion. \n",
    "\n",
    "## Substitution: \n",
    "\n",
    "As some sequences evolving through time, some components change to one another, this change referred as a substitution.\n",
    "\n",
    "## Insertion/Deletion: \n",
    "\n",
    "Through time, some other sequences might enter between the original sequence or some subsequences might disappear, this changes classified as insertion and deletion mutation.\n",
    "\n",
    "\n",
    "If a DNA sequence defined over an alphabet with letters {A,C,T,G}, these operations can be illustrated as a model below:"
   ]
  },
  {
   "cell_type": "markdown",
   "metadata": {},
   "source": [
    "![title](img/SE-mutations.png)"
   ]
  },
  {
   "cell_type": "markdown",
   "metadata": {},
   "source": [
    "So, with these operations same genetical materials becomes slightly more different in closely related species. This difference expected to increase as relation become more ambiguous or distant. Scientist today can reach the genetic material of available species, but how about their ancestral genes? What is the original sequence? What operations possibly went underway, so that different sequences at different species occurred? What are their similarities and differences, and where they are exactly? These are the main questions in biology and sequence alignment tries to interpret these operations. \n",
    "\n",
    "But what is an alignment? Alignment of two sequence is simply a representation of these sequences put on top of each other, and pair them in a way that in the end both of them gets to same length. This is achieved by adding gaps to both sequences whenever felt necessary. For the general alignment cases, firstly global alignment must be taken into consideration. Briefly, global alignment tries to align elements of given sequences, specifically pair every element once among the sequences during the process. It is also called end-to-end alignment. Some feasibility conditions should be hold in order to call an alignment as global alignment. These feasibility constraints are:\n",
    "\n",
    "- **Sequences must be in same length in the end.**\n",
    "- **Dashes/gaps cannot be paired with itself between sequences.**\n",
    "- **If dashes are removed from sequences, same initial sequences are achieved.**"
   ]
  },
  {
   "cell_type": "markdown",
   "metadata": {},
   "source": [
    "![title](img/global-local-alignments.png)"
   ]
  },
  {
   "cell_type": "markdown",
   "metadata": {},
   "source": [
    "Now the global alignment problem and its feasibility conditions are known; but with these conditions, numerous global alignment can be achieved from given two sequences. That leads to next question: How an optimal alignment can be found? The alignment that might model ancestral sequence, or gives best insights about structural relations of given sequences. Hence an optimality condition must be set additional to the feasibility conditions. For optimality condition, setting a scoring scheme and evaluate the alignments according to this total score of the pairs is one solution. For the pairs that to be thought as a good match, positive score can be set at the matrix; and for the bad matches, or matches with \"dashes\", penalty score can be set. Thus created pairs can be scored and at the end total score of each alignment can be acquired. Alignment with the maximum score evaluated as optimal alignment among other alignments. Therefore optimality conditions can be created and manipulated whenever felt necessary.\n",
    "\n",
    "In Algorithmic thinking perspective, we can clarify the global sequence alignment problem a bit more by determining inputs and outputs of the problem. \n",
    "\n",
    "- **Our input:** Two sequences: X, Y and scoring matrix M.\n",
    "\n",
    "- **Our Output:** Global alignment sequences of X and Y and their maximum alignment score.\n",
    "\n",
    "Second alignment that will be used is local alignment. Some genes or their certain parts can be preserved better through time. In this case -where same genes of the related two species are taken into account- trying to find just these local parts and eliminating the rest is meaningful. Given two sequences, finding this partly alignment is called local alignment problem.\n",
    "\n",
    "More detailed explanations and mathematical representations of these alignments and their functional inputs and outputs can be found in here, provided by the course instructor."
   ]
  },
  {
   "cell_type": "markdown",
   "metadata": {},
   "source": [
    "# Section 3: Algorithms Needleman–Wunsch and Smith–Waterman to solve global and local alignments:\n",
    "\n",
    "## Briefly the Algorithms:\n",
    "\n",
    "Needleman-Wunsch algorithm uses dynamic programming approach to tackle global alignment problem. It divides the problem to its subproblems, iterate and save the progress to an alignment matrix. Later it uses traceback method and finds the optimal global alignment.  \n",
    "\n",
    "Let's think of the following subproblem: \n",
    "\n",
    "**F(i, j)** represents the optimal alignment score between **X[1:i] and Y[1:j]**. **F(n, m)** will be optimal alignment score for global alignment problem, where **n, m** are the length of the sequences. And **F(i, j)** be can calculated directly if **F(i-1, j), F(i, j-1) and F(i-1,j-1)** known: \n",
    "\n",
    "**F(i, j) = max( F(i, j-1) + related penalty score, F(i-1, j)+related penalty score, F(i-1, j-1) + pair score).** \n",
    "We can think of this function as a **n x n matrix S**, where **S[i][j]** = **F(i, j)**. *In Needleman-Wunsch Algorithm*, after initializing the first row and column of **matrix S**, all other elements of the matrix calculated based on the formula above. Now the optimal global alignment score is stored in **S[n][m]**. In order to create the aligned sequences, traceback is initiated from the right bottom of the matrix.  For detailed information about the algorithm, please refer to this article.\n",
    "\n",
    "*Smith-Waterman algorithm* uses a variation of *Needleman-Wunsch algorithm*. In the alignment **matrix S**, it replaces negative values with zero and initiates the traceback not from the right bottom, but from the maximum entry. After traceback is initiated, it stops at the first zero entry it reaches. Since the local alignments have the maximum optimal alignment score,  it finds local alignments."
   ]
  },
  {
   "cell_type": "markdown",
   "metadata": {},
   "source": [
    "## Implementation in Python:\n",
    "\n",
    "Function below takes both sequences, scoring matrix and global flag, which helps us to return local or global alignment matrix. According to global_flag, the function creates an alignment matrix S, in order to be used at the traceback phase."
   ]
  },
  {
   "cell_type": "code",
   "execution_count": 12,
   "metadata": {},
   "outputs": [],
   "source": [
    "def compute_alignment_matrix(seq_x, seq_y, scoring_matrix, global_flag):\n",
    "    \"\"\"\n",
    "    Computes alligment matrix according to global flag, \n",
    "    with this matrix, max scores of possible subsequence pairs can be observed\n",
    "    \"\"\"\n",
    "    \n",
    "    lenght_x = len(seq_x)\n",
    "    lenght_y = len(seq_y)\n",
    "    alignment_matrix = [ [] for dummy_i in range(lenght_x+1)]\n",
    "    alignment_matrix[0].append(0)\n",
    "    \n",
    "    if global_flag == True: #If we will use for Needlwman-Wunsch: global alignment\n",
    "        for key_i in range(1,lenght_x+1): #column initialization\n",
    "            alignment_matrix[key_i].append(alignment_matrix[key_i-1][0] +  \\\n",
    "                                             scoring_matrix[seq_x[key_i-1]][\"-\"])\n",
    "        for key_j in range(1,lenght_y+1): #row initialization\n",
    "            alignment_matrix[0].append(alignment_matrix[0][key_j-1] + scoring_matrix[\"-\"][seq_y[key_j-1]])\n",
    "        \n",
    "        for key_i in range(1,lenght_x+1): #iteration\n",
    "            for key_j in range(1,lenght_y+1):\n",
    "                alignment_matrix[key_i].\\\n",
    "                    append(max(alignment_matrix[key_i-1][key_j-1] + scoring_matrix[seq_x[key_i-1]][seq_y[key_j-1]], \\\n",
    "                               alignment_matrix[key_i-1][key_j] + scoring_matrix[seq_x[key_i-1]][\"-\"], \\\n",
    "                               alignment_matrix[key_i][key_j-1] + scoring_matrix[\"-\"][seq_y[key_j-1]]))\n",
    "        return alignment_matrix\n",
    "    \n",
    "    else: # Case for Smith-Waterman: Local Alignments\n",
    "        for key_i in range(1,lenght_x+1):#column initialization assumend that gaps create negative values: set to 0\n",
    "            alignment_matrix[key_i].append(0) \n",
    "        for dummy_j in range(1,lenght_y+1): #row initialization assumend that gaps create negative values: set to 0\n",
    "            alignment_matrix[0].append(0 )\n",
    "        \n",
    "        for key_i in range(1,lenght_x+1): #iteration\n",
    "            for key_j in range(1,lenght_y+1):\n",
    "                alignment_matrix[key_i].\\\n",
    "                    append(max(0, #We dont want negative values\n",
    "                    alignment_matrix[key_i-1][key_j-1] + scoring_matrix[seq_x[key_i-1]][seq_y[key_j-1]], \\\n",
    "                    alignment_matrix[key_i-1][key_j] + scoring_matrix[seq_x[key_i-1]][\"-\"], \\\n",
    "                    alignment_matrix[key_i][key_j-1] + scoring_matrix[\"-\"][seq_y[key_j-1]]))\n",
    "        return alignment_matrix\n",
    "\n"
   ]
  },
  {
   "cell_type": "markdown",
   "metadata": {},
   "source": [
    "After the alignment matrix calculated, traceback can be done by the function below. This completes the Needleman-Wunsch algorithm, with this piece of code globally aligned pairs can be obtained."
   ]
  },
  {
   "cell_type": "code",
   "execution_count": 13,
   "metadata": {},
   "outputs": [],
   "source": [
    "def compute_global_alignment(seq_x, seq_y, scoring_matrix, alignment_matrix):\n",
    "    \"\"\"\n",
    "    Completes the Needleman–Wunsch Algorithm, after alignment matrix phase completed.  \n",
    "    This function takes both sequences together with scoring matrix and alignment matrix\n",
    "    Starting from aligment matrix' last entry, it computes the sequuences according to 3 prior \n",
    "    possible starting points.\n",
    "    \"\"\"\n",
    "    lenght_x = len(seq_x)\n",
    "    lenght_y = len(seq_y)\n",
    "    x_fin = \"\" #start sequences\n",
    "    y_fin = \"\" #start sequences\n",
    "    final_score = alignment_matrix[lenght_x][lenght_y]\n",
    "    \n",
    "    while lenght_x <> 0 and lenght_y <> 0:\n",
    "        x_val, y_val = seq_x[lenght_x -1], seq_y[lenght_y -1]\n",
    "        poss_1 = alignment_matrix[lenght_x -1][lenght_y-1] + scoring_matrix[x_val][y_val] #first possiblity\n",
    "        \n",
    "        if alignment_matrix[lenght_x][lenght_y] == poss_1:\n",
    "            x_fin = x_val + x_fin\n",
    "            y_fin = y_val + y_fin\n",
    "            lenght_x -= 1\n",
    "            lenght_y -= 1\n",
    "        else:\n",
    "            poss_2 = alignment_matrix[lenght_x -1][lenght_y] + scoring_matrix[x_val][\"-\"]  #second possiblity  \n",
    "            \n",
    "            if alignment_matrix[lenght_x][lenght_y] == poss_2:\n",
    "                x_fin = x_val + x_fin\n",
    "                y_fin = \"-\" + y_fin\n",
    "                lenght_x -= 1\n",
    "            else:\n",
    "                x_fin = \"-\" + x_fin  \n",
    "                y_fin = y_val + y_fin\n",
    "                lenght_y -= 1\n",
    "    #if initial point could be reached, dashes will be added.            \n",
    "    while lenght_x <> 0:\n",
    "        x_val = seq_x[lenght_x -1]\n",
    "        x_fin = x_val + x_fin\n",
    "        y_fin = \"-\" + y_fin\n",
    "        lenght_x -= 1\n",
    "                \n",
    "    while lenght_y <> 0:\n",
    "        y_val = seq_y[lenght_y -1]\n",
    "        x_fin = \"-\" + x_fin  \n",
    "        y_fin = y_val + y_fin\n",
    "        lenght_y -= 1\n",
    "        \n",
    "    return (final_score, x_fin, y_fin)"
   ]
  },
  {
   "cell_type": "markdown",
   "metadata": {},
   "source": [
    "For local alignments, traceback differs in terms of start and end points. Algorithm below, successfully calculates the local alignments and completes the Smith-Waterman algorithm.\n"
   ]
  },
  {
   "cell_type": "code",
   "execution_count": 14,
   "metadata": {},
   "outputs": [],
   "source": [
    "def compute_local_alignment(seq_x, seq_y, scoring_matrix, alignment_matrix): \n",
    "    \"\"\"\n",
    "    Completes the Smith–Waterman Algorithm, after alignment matrix phase completed. \n",
    "    \n",
    "    By setting global flag False at the allignment matrix and starting from the max entry,\n",
    "    this algorithm finds only local aligments.\n",
    "    \"\"\"\n",
    "    max_in_alligment = (0,0,0)\n",
    "    x_lenght = len(seq_x)\n",
    "    y_lenght = len(seq_y)\n",
    "    x_fin = \"\"\n",
    "    y_fin = \"\"\n",
    "    #Search for maximum\n",
    "    for key_i in range(1,x_lenght+1):\n",
    "        for key_j in range(1,y_lenght+1):\n",
    "            aligment_value = alignment_matrix[key_i][key_j]\n",
    "            if aligment_value > max_in_alligment[0]:\n",
    "                max_in_alligment = (aligment_value,key_i,key_j)\n",
    "                \n",
    "    score = max_in_alligment[0]\n",
    "    countdown_value =  max_in_alligment[0]\n",
    "    curr_pos_x, curr_pos_y = max_in_alligment[1], max_in_alligment[2]\n",
    "    \n",
    "    while countdown_value > 0: # while our value greater than 0, iterate.\n",
    "        x_val, y_val = seq_x[curr_pos_x-1], seq_y[curr_pos_y-1]\n",
    "        poss_1 = alignment_matrix[curr_pos_x -1][curr_pos_y-1] + scoring_matrix[x_val][y_val]\n",
    "        if alignment_matrix[curr_pos_x][curr_pos_y] == poss_1:\n",
    "            x_fin = x_val + x_fin\n",
    "            y_fin = y_val + y_fin\n",
    "            curr_pos_x -= 1\n",
    "            curr_pos_y -= 1\n",
    "            countdown_value = alignment_matrix[curr_pos_x][curr_pos_y]\n",
    "                \n",
    "        else:\n",
    "            poss_2 = alignment_matrix[curr_pos_x -1][curr_pos_y] + scoring_matrix[x_val][\"-\"]\n",
    "            if alignment_matrix[curr_pos_x][curr_pos_y] == poss_2:\n",
    "                x_fin = x_val + x_fin\n",
    "                y_fin = \"-\" + y_fin\n",
    "                curr_pos_x -= 1\n",
    "            else:\n",
    "                x_fin = \"-\" + x_fin  \n",
    "                y_fin = y_val + y_fin\n",
    "                curr_pos_y -= 1      \n",
    "    \n",
    "    return (score, x_fin, y_fin)"
   ]
  },
  {
   "cell_type": "markdown",
   "metadata": {},
   "source": [
    "Now that the algorithms are ready, sequence alignment case can be introduced."
   ]
  },
  {
   "cell_type": "markdown",
   "metadata": {},
   "source": [
    "## Section 4: Sequence Alignment Case and Helper Codes"
   ]
  },
  {
   "cell_type": "markdown",
   "metadata": {},
   "source": [
    "## Eyeless Gene, and it's correspondence in different species:\n",
    "\n",
    "\"In 1994, Walter Gehring and colleagues at the University of Basel carried out an \"interesting\" experiment: they were able to turn on a gene called eyeless in various places on the body of the fruit fly, Drosophila melanogaster. The result was astonishing - fruit flies developed that had whole eyes sprouting up all over their bodies. It turned out that the eyeless is a master regulatory gene - it controls a cascade that contains more than 2000 other genes. Turning it on anywhere in the body activates the cascade and produces a fully formed, but non-functioning, eye. Humans, as well as many other animals, have a slightly different version of the eyeless gene (that is, a similar, yet not identical sequence of the same gene). This observation suggests that about 600 million years ago (the estimated time of divergence between humans and fruit flies) there was an ancestral organism that itself used some version of eyeless, and that throughout the evolution of humans and fruit flies this gene continued to be maintained, albeit while accumulating mutations that did not greatly affect its function. In particular, a substring of the eyeless protein of about 130 amino acids, known as the PAX domain, whose function is to bind specific sequences of DNA, is virtually identical between the human and fruit fly versions of eyeless.\"*\n",
    "\n",
    "Genes and scoring matrix are given as URL below, and possible alignments will be scored according to this given PAM50 matrix. Helper functions below will be used to read proteins and PAM50 scoring matrix. "
   ]
  },
  {
   "cell_type": "markdown",
   "metadata": {},
   "source": [
    "**Genes and scoring matrix are given as URL below, and possible alignments will be scored according to this given PAM50 matrix. Helper functions below will be used to read proteins and PAM50 scoring matrix.**"
   ]
  },
  {
   "cell_type": "markdown",
   "metadata": {},
   "source": [
    "![title](img/scoring-matrix.png)"
   ]
  },
  {
   "cell_type": "markdown",
   "metadata": {},
   "source": [
    "## Helper Functions:"
   ]
  },
  {
   "cell_type": "code",
   "execution_count": 15,
   "metadata": {},
   "outputs": [],
   "source": [
    "\"\"\"\n",
    "This code is provided by instructors from Rice University\n",
    "by online Algorithmic Thinking course through online learning platform Coursera.\n",
    "\"\"\"\n",
    "\n",
    "\n",
    "import math\n",
    "import random\n",
    "import urllib2\n",
    "\n",
    "\n",
    "\n",
    "# URLs for data files\n",
    "PAM50_URL = \"http://storage.googleapis.com/codeskulptor-alg/alg_PAM50.txt\"\n",
    "HUMAN_EYELESS_URL = \"http://storage.googleapis.com/codeskulptor-alg/alg_HumanEyelessProtein.txt\"\n",
    "FRUITFLY_EYELESS_URL = \"http://storage.googleapis.com/codeskulptor-alg/alg_FruitflyEyelessProtein.txt\"\n",
    "CONSENSUS_PAX_URL = \"http://storage.googleapis.com/codeskulptor-alg/alg_ConsensusPAXDomain.txt\"\n",
    "WORD_LIST_URL = \"http://storage.googleapis.com/codeskulptor-assets/assets_scrabble_words3.txt\"\n",
    "\n",
    "\n",
    "\n",
    "###############################################\n",
    "# provided code\n",
    "\n",
    "def read_scoring_matrix(filename):\n",
    "    \"\"\"\n",
    "    Read a scoring matrix from the file named filename.  \n",
    "\n",
    "    Argument:\n",
    "    filename -- name of file containing a scoring matrix\n",
    "\n",
    "    Returns:\n",
    "    A dictionary of dictionaries mapping X and Y characters to scores\n",
    "    \"\"\"\n",
    "    scoring_dict = {}\n",
    "    scoring_file = urllib2.urlopen(filename)\n",
    "    ykeys = scoring_file.readline()\n",
    "    ykeychars = ykeys.split()\n",
    "    for line in scoring_file.readlines():\n",
    "        vals = line.split()\n",
    "        xkey = vals.pop(0)\n",
    "        scoring_dict[xkey] = {}\n",
    "        for ykey, val in zip(ykeychars, vals):\n",
    "            scoring_dict[xkey][ykey] = int(val)\n",
    "    return scoring_dict\n",
    "\n",
    "\n",
    "\n",
    "\n",
    "def read_protein(filename):\n",
    "    \"\"\"\n",
    "    Read a protein sequence from the file named filename.\n",
    "\n",
    "    Arguments:\n",
    "    filename -- name of file containing a protein sequence\n",
    "\n",
    "    Returns:\n",
    "    A string representing the protein\n",
    "    \"\"\"\n",
    "    protein_file = urllib2.urlopen(filename)\n",
    "    protein_seq = protein_file.read()\n",
    "    protein_seq = protein_seq.rstrip()\n",
    "    return protein_seq\n",
    "\n",
    "\n",
    "def read_words(filename):\n",
    "    \"\"\"\n",
    "    Load word list from the file named filename.\n",
    "\n",
    "    Returns a list of strings.\n",
    "    \"\"\"\n",
    "    # load assets\n",
    "    word_file = urllib2.urlopen(filename)\n",
    "    \n",
    "    # read in files as string\n",
    "    words = word_file.read()\n",
    "    \n",
    "    # template lines and solution lines list of line string\n",
    "    word_list = words.split('\\n')\n",
    "    print \"Loaded a dictionary with\", len(word_list), \"words\"\n",
    "    return word_list\n"
   ]
  },
  {
   "cell_type": "markdown",
   "metadata": {},
   "source": [
    "# Section 5: Analysis of the case\n",
    "\n",
    "**The task is to determine local or global similarities between human and fruit fly eyeless gene sequences. Compare them by Consensus PAX gene, calculate their agreement and do hypothesis testing over the results to determine the likelihood of randomness. For finding global alignments, *Needleman–Wunsch algorithm* and for the local alignments *Smith–Waterman algorithm* will be used.**\n",
    "\n",
    "## Comparison of Human and Fruit Fly Eyeless Genes:"
   ]
  },
  {
   "cell_type": "code",
   "execution_count": 16,
   "metadata": {
    "scrolled": false
   },
   "outputs": [
    {
     "name": "stdout",
     "output_type": "stream",
     "text": [
      "Human Eyeless Gene:  MQNSHSGVNQLGGVFVNGRPLPDSTRQKIVELAHSGARPCDISRILQVSNGCVSKILGRYYETGSIRPRAIGGSKPRVATPEVVSKIAQYKRECPSIFAWEIRDRLLSEGVCTNDNIPSVSSINRVLRNLASEKQQMGADGMYDKLRMLNGQTGSWGTRPGWYPGTSVPGQPTQDGCQQQEGGGENTNSISSNGEDSDEAQMRLQLKRKLQRNRTSFTQEQIEALEKEFERTHYPDVFARERLAAKIDLPEARIQVWFSNRRAKWRREEKLRNQRRQASNTPSHIPISSSFSTSVYQPIPQPTTPVSSFTSGSMLGRTDTALTNTYSALPPMPSFTMANNLPMQPPVPSQTSSYSCMLPTSPSVNGRSYDTYTPPHMQTHMNSQPMGTSGTTSTGLISPGVSVPVQVPGSEPDMSQYWPRLQ\n",
      "\n",
      "Fruitfly Eyeless Gene:  MRNLPCLGTAGGSGLGGIAGKPSPTMEAVEASTASHPHSTSSYFATTYYHLTDDECHSGVNQLGGVFVGGRPLPDSTRQKIVELAHSGARPCDISRILQVSNGCVSKILGRYYETGSIRPRAIGGSKPRVATAEVVSKISQYKRECPSIFAWEIRDRLLQENVCTNDNIPSVSSINRVLRNLAAQKEQQSTGSGSSSTSAGNSISAKVSVSIGGNVSNVASGSRGTLSSSTDLMQTATPLNSSESGGASNSGEGSEQEAIYEKLRLLNTQHAAGPGPLEPARAAPLVGQSPNHLGTRSSHPQLVHGNHQALQQHQQQSWPPRHYSGSWYPTSLSEIPISSAPNIASVTAYASGPSLAHSLSPPNDIESLASIGHQRNCPVATEDIHLKKELDGHQSDETGSGEGENSNGGASNIGNTEDDQARLILKRKLQRNRTSFTNDQIDSLEKEFERTHYPDVFARERLAGKIGLPEARIQVWFSNRRAKWRREEKLRNQRRTPNSTGASATSSSTSATASLTDSPNSLSACSSLLSGSAGGPSVSTINGLSSPSTLSTNVNAPTLGAGIDSSESPTPIPHIRPSCTSDNDNGRQSEDCRRVCSPCPLGVGGHQNTHHIQSNGHAQGHALVPAISPRLNFNSGSFGAMYSNMHHTALSMSDSYGAVTPIPSFNHSAVGPLAPPSPIPQQGDLTPSSLYPCHMTLRPPPMAPAHHHIVPGDGGRPAGVGLGSGQSANLGASCSGSGYEVLSAYALPPPPMASSSAADSSFSAASSASANVTPHHTIAQESCPSPCSSASHFGVAHSSGFSSDPISPAVSSYAHMSYNYASSANTMTPSSASGTSAHVAPGKQQFFASCFYSPWV\n"
     ]
    }
   ],
   "source": [
    "human_gene = read_protein(HUMAN_EYELESS_URL)\n",
    "fruitfly_gene = read_protein(FRUITFLY_EYELESS_URL)\n",
    "pam_50_matrix = read_scoring_matrix(PAM50_URL)\n",
    "\n",
    "print \"Human Eyeless Gene: \", human_gene\n",
    "print \n",
    "print \"Fruitfly Eyeless Gene: \", fruitfly_gene\n"
   ]
  },
  {
   "cell_type": "markdown",
   "metadata": {},
   "source": [
    "As can be seen, length of both sequences differ significantly. It would be reasonable to search for local similarities using local alignment function, rather them align them end-to-end with global alignment function."
   ]
  },
  {
   "cell_type": "markdown",
   "metadata": {},
   "source": [
    "## Local Alignment between sample genes"
   ]
  },
  {
   "cell_type": "code",
   "execution_count": 17,
   "metadata": {
    "scrolled": false
   },
   "outputs": [
    {
     "name": "stdout",
     "output_type": "stream",
     "text": [
      "875\n",
      "HSGVNQLGGVFVNGRPLPDSTRQKIVELAHSGARPCDISRILQVSNGCVSKILGRYYETGSIRPRAIGGSKPRVATPEVVSKIAQYKRECPSIFAWEIRDRLLSEGVCTNDNIPSVSSINRVLRNLASEK-QQ\n",
      "HSGVNQLGGVFVGGRPLPDSTRQKIVELAHSGARPCDISRILQVSNGCVSKILGRYYETGSIRPRAIGGSKPRVATAEVVSKISQYKRECPSIFAWEIRDRLLQENVCTNDNIPSVSSINRVLRNLAAQKEQQ\n"
     ]
    }
   ],
   "source": [
    "alignment_matrix = compute_alignment_matrix(human_gene, fruitfly_gene, pam_50_matrix, False)\n",
    "alignment_loc = compute_local_alignment(human_gene, fruitfly_gene, pam_50_matrix, alignment_matrix)\n",
    "\n",
    "for element in alignment_loc:\n",
    "    print element"
   ]
  },
  {
   "cell_type": "markdown",
   "metadata": {},
   "source": [
    "Local alignment function determine significance similarities between human and fruit fly eyeless genes with the score of 875. When both local sequences examined, only small differences noticed"
   ]
  },
  {
   "cell_type": "markdown",
   "metadata": {},
   "source": [
    "## Comparison to Consensus PAX Domain:\n",
    "\n",
    "After local similar parts are found, comparison of these gene parts with consensus gene -gene that corresponds the Eyeless PAX6 domain of different species- would also answer the question of their similarity to other PAX6 domains. Consensus domain:"
   ]
  },
  {
   "cell_type": "code",
   "execution_count": 18,
   "metadata": {},
   "outputs": [
    {
     "name": "stdout",
     "output_type": "stream",
     "text": [
      "GHGGVNQLGGVFVNGRPLPDVVRQRIVELAHQGVRPCDISRQLRVSHGCVSKILGRYYETGSIKPGVIGGSKPKVATPKVVEKIAEYKRQNPTMFAWEIRDRLLAERVCDNDTVPSVSSINRIIR\n"
     ]
    }
   ],
   "source": [
    "CONSENSUS_PROTEIN = read_protein(CONSENSUS_PAX_URL)\n",
    "print CONSENSUS_PROTEIN"
   ]
  },
  {
   "cell_type": "markdown",
   "metadata": {},
   "source": [
    "For these purpose, functions below are created. First, dashes should be removed, then results of each sequence should be globally aligned with consensus Pax. After alignment created, their agreement should be calculated."
   ]
  },
  {
   "cell_type": "code",
   "execution_count": 19,
   "metadata": {},
   "outputs": [],
   "source": [
    "def delete_dashes(string):\n",
    "    \"\"\"\n",
    "    delete dashes from given string\n",
    "    \"\"\"\n",
    "    dashless_str = \"\"\n",
    "    for char in string:\n",
    "        if char == \"-\":\n",
    "            continue\n",
    "        else:\n",
    "            dashless_str += char  \n",
    "    return dashless_str\n",
    "\n",
    "def calculate_seqs_agreement(seq1,seq2):\n",
    "    \"\"\"\n",
    "    Given two same lenght sequences, this function calculates the perccentage of \n",
    "    the agreeing elements over the whole sequences\n",
    "    \"\"\"\n",
    "    assert len(seq1) == len(seq2)\n",
    "    seq_lenght = len(seq1)\n",
    "    agr_number = 0\n",
    "    \n",
    "    for key_i in range(seq_lenght):\n",
    "        if seq1[key_i] == seq2[key_i]:\n",
    "            agr_number += 1\n",
    "    \n",
    "    percentage = agr_number/float(seq_lenght)*100   \n",
    "    return percentage\n",
    "\n",
    "def compare_seq_cons(seq1, consensus):\n",
    "    \"\"\"\n",
    "    Function that takes sequence and consensus sequence\n",
    "    Remove their dashes, align them globally and measure the similarity percentage.\n",
    "    Returns their similarity percentage\n",
    "    \"\"\"\n",
    "    seq1_dashless = delete_dashes(seq1)\n",
    "    align_m = compute_alignment_matrix(seq1_dashless, consensus, pam_50_matrix, True)\n",
    "    alignments= compute_global_alignment(seq1_dashless, consensus, pam_50_matrix, align_m)\n",
    "    percentage = calculate_seqs_agreement(alignments[1], alignments[2])\n",
    "    \n",
    "    return percentage\n",
    "    "
   ]
  },
  {
   "cell_type": "markdown",
   "metadata": {},
   "source": [
    "Human and Fly alignment sequences recorded previously on variable alignment_loc. Their agreement with consensus domain:"
   ]
  },
  {
   "cell_type": "code",
   "execution_count": 20,
   "metadata": {},
   "outputs": [
    {
     "name": "stdout",
     "output_type": "stream",
     "text": [
      "Human-Consensus Agreement Percentage:  72.9323308271\n",
      "Fly-Consensus Agreement Percentage:  70.1492537313\n"
     ]
    }
   ],
   "source": [
    "human_cons_perc = compare_seq_cons(alignment_loc[1],CONSENSUS_PROTEIN)\n",
    "fly_cons_perc = compare_seq_cons(alignment_loc[2],CONSENSUS_PROTEIN)\n",
    "print \"Human-Consensus Agreement Percentage: \", human_cons_perc\n",
    "print \"Fly-Consensus Agreement Percentage: \", fly_cons_perc"
   ]
  },
  {
   "cell_type": "markdown",
   "metadata": {},
   "source": [
    "As can be seen similarity is around **70-72%**. Length of the consensus gene is **125**, and to get mentioned percentage, at least **88** amino acid agreements needed. Also if the event type is considered, two sequences with an at least **%70** agreement refers a to binomial process with the success rate **1/24** (23 amino acids and a gap). If its calculated, the result would be **10^(-91)**.  As can be seen from the result, the odds are extremely unlikely."
   ]
  },
  {
   "cell_type": "markdown",
   "metadata": {},
   "source": [
    "## Hypothesis Testing\n",
    "\n",
    "At the last calculation, appearance chance of every protein in the sequence was assumed to be equal. But this is not the case: to avoid this situation and create a better model, a simulation would be more suitable. At this simulation, fruit fly gene will be shuffled while human genome remains the same at every iteration. At each iteration, human and shuffled fruit fly genome will be globally aligned, and their score will be recorded. After repetition of 1000 experiments, scores will be recorded according to their appearance fraction, and later the distribution will be normalized. This function can be seen as:"
   ]
  },
  {
   "cell_type": "code",
   "execution_count": 21,
   "metadata": {},
   "outputs": [],
   "source": [
    "def generate_null_distribution(seq_x, seq_y, scoring_matrix, num_trials):\n",
    "    \"\"\"\n",
    "    using the sequences, holds trials by randomize one of the given sequence \n",
    "    and compute newly created pairs score. Returns the unnormalized distribution of these scores. \n",
    "    \"\"\"\n",
    "    result_dict = {}\n",
    "    \n",
    "    for trial_num in range(num_trials):\n",
    "        seq_y_copy = (seq_y+\".\")[:-1]\n",
    "        \n",
    "        seq_y_copy = list(seq_y_copy)\n",
    "        random.shuffle(seq_y_copy)\n",
    "        \"\".join(seq_y_copy)\n",
    "        \n",
    "        align_m = compute_alignment_matrix(seq_x, seq_y_copy, scoring_matrix, False)\n",
    "        trail_result = compute_local_alignment(seq_x,seq_y_copy,scoring_matrix, align_m)\n",
    "        if trail_result[0] in result_dict.keys():\n",
    "            result_dict[trail_result[0]] += 1\n",
    "        else:\n",
    "            result_dict[trail_result[0]] = 1\n",
    "           \n",
    "    return result_dict    \n",
    "\n",
    "def normalize_distribution(dist):\n",
    "    \"\"\"\n",
    "    normalize the entered distribution given as dictionary \n",
    "    \"\"\"\n",
    "    total = 0\n",
    "    dist_copy = dist.copy()\n",
    "    \n",
    "    for key in dist:\n",
    "        total += dist[key]\n",
    "    \n",
    "    for key in dist:\n",
    "        dist_copy[key] = dist[key]/float(total)\n",
    "        \n",
    "    return dist_copy"
   ]
  },
  {
   "cell_type": "markdown",
   "metadata": {},
   "source": [
    "If matplotlib is used to create a bar chart to examine the distribution. Following code can be created."
   ]
  },
  {
   "cell_type": "code",
   "execution_count": 24,
   "metadata": {},
   "outputs": [
    {
     "data": {
      "image/png": "[encoded data removed]",
      "text/plain": [
       "<Figure size 432x288 with 1 Axes>"
      ]
     },
     "metadata": {
      "needs_background": "light"
     },
     "output_type": "display_data"
    }
   ],
   "source": [
    "## runtime of this part could be take 5 to 10 mins\n",
    "\n",
    "import matplotlib.pyplot as plt\n",
    "import numpy as np\n",
    "\n",
    "#Using written functions to create distributions.\n",
    "\n",
    "distribution_unnormalized = generate_null_distribution(human_gene, fruitfly_gene, pam_50_matrix, 1000)\n",
    "distribution_normalized = normalize_distribution(distribution_unnormalized)\n",
    "distribution_normalized\n",
    "\n",
    "#Craeating the plot\n",
    "\n",
    "keys_normalized = distribution_normalized.keys()\n",
    "values_normalized = [round(val,3) for val in distribution_normalized.values()]\n",
    "\n",
    "fig = plt.figure()\n",
    "ax = fig.add_axes([0,0,2,1])\n",
    "ax.bar(keys_normalized, values_normalized, color='blue')\n",
    "ax.set_xticks(np.arange(keys_normalized[0], keys_normalized[-1], 2))\n",
    "ax.set_ylabel('Dist. fraction of total trials')\n",
    "ax.set_xlabel('Scores')\n",
    "ax.set_title('Scores by normalized dist. fractions of the experiment')\n",
    "plt.show()"
   ]
  },
  {
   "cell_type": "markdown",
   "metadata": {},
   "source": [
    "Distribution resulted in a bell shaped graph as expected, and the scores concentrated mostly around 40 - 60 range. After distribution calculated, simple statistical analysis would be helpful to determine the likelihood of the score 875, found between local alignments of human and fruit fly eyeless genes. In order to do that, mean, variance and z-score will be calculated with the functions written below."
   ]
  },
  {
   "cell_type": "code",
   "execution_count": 25,
   "metadata": {},
   "outputs": [
    {
     "data": {
      "text/plain": [
       "(51.618000000000016, 6.6765317343662804, 123.32480886173056)"
      ]
     },
     "execution_count": 25,
     "metadata": {},
     "output_type": "execute_result"
    }
   ],
   "source": [
    "def calculate_mean_std_zscore(normalized_dist,score):\n",
    "    \"\"\"\n",
    "    Gets distribution and calculated score and returns mean,\n",
    "    standard deviation and zscore of the given dist.\n",
    "    \"\"\"\n",
    "    mean = 0\n",
    "    total = 0\n",
    "    \n",
    "    for key in normalized_dist.keys():\n",
    "        mean += normalized_dist[key]*key\n",
    "    \n",
    "    for key_score in  normalized_dist.keys():\n",
    "        total += ((key_score-mean)**2)*distribution_normalized[key_score]\n",
    "        \n",
    "    std = (total)**(1/2.0)\n",
    "    \n",
    "    z_score = (score - mean)/float(std)\n",
    "    \n",
    "    return (mean,std,z_score)\n",
    "    \n",
    "calculate_mean_std_zscore(distribution_normalized,alignment_loc[0])"
   ]
  },
  {
   "cell_type": "markdown",
   "metadata": {},
   "source": [
    "Implementation of the function resulted with 51.2 mean, 6.67 standard deviation and 123.4 z-score. So the score, that is calculated between the local alignment of human and fruit fly genes, lies in a distance of 123 standard deviation ahead to the mean of the simulated event. The probability of such a situation is around 10^(-3288) as can be seen blow:"
   ]
  },
  {
   "cell_type": "markdown",
   "metadata": {},
   "source": [
    "![title](img/1618769562195.png) "
   ]
  },
  {
   "cell_type": "markdown",
   "metadata": {},
   "source": [
    "If we think probability of winning a lottery is about one in a trillion 10^(-12). This probability above gives an estimate about the likelihood of such a similarity to occur randomly between the local alignments of human and fruit fly eyeless gene."
   ]
  }
 ],
 "metadata": {
  "kernelspec": {
   "display_name": "Python 2",
   "language": "python",
   "name": "python2"
  },
  "language_info": {
   "codemirror_mode": {
    "name": "ipython",
    "version": 2
   },
   "file_extension": ".py",
   "mimetype": "text/x-python",
   "name": "python",
   "nbconvert_exporter": "python",
   "pygments_lexer": "ipython2",
   "version": "2.7.16"
  }
 },
 "nbformat": 4,
 "nbformat_minor": 2
}
